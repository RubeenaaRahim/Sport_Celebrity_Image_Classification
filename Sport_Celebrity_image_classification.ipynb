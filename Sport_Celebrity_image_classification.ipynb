{
 "cells": [
  {
   "cell_type": "code",
   "execution_count": 27,
   "id": "fb37fa9b",
   "metadata": {},
   "outputs": [],
   "source": [
    "#importing neccessary libraries\n",
    "import numpy as np\n",
    "import matplotlib.pyplot as plt\n",
    "import cv2\n",
    "import os\n",
    "import tensorflow as tf\n",
    "from PIL import Image\n",
    "from sklearn.model_selection import train_test_split\n",
    "from sklearn.metrics import classification_report\n",
    "from tqdm import tqdm\n"
   ]
  },
  {
   "cell_type": "code",
   "execution_count": 28,
   "id": "9cac230f",
   "metadata": {},
   "outputs": [
    {
     "name": "stdout",
     "output_type": "stream",
     "text": [
      "The length of Virat Kohli images is 41\n",
      "The length of Serena Williams images is 29\n",
      "The length of Maria Sharapova images is 34\n",
      "The length of Rodger Federer images is 28\n",
      "The length of Lionel Messi images is 36\n"
     ]
    }
   ],
   "source": [
    "#loading dataaset\n",
    "image_dir=r\"C:\\Users\\RUBEENA NABEEH\\Downloads\\Dataset_Celebrities\\cropped\"\n",
    "virat_images=os.listdir(image_dir+ '\\\\virat_kohli')\n",
    "serena_images=os.listdir(image_dir+ '\\\\serena_williams')\n",
    "maria_images=os.listdir(image_dir+ '\\\\maria_sharapova')\n",
    "roger_images=os.listdir(image_dir+ '\\\\roger_federer')\n",
    "lionel_images=os.listdir(image_dir+ '\\\\lionel_messi')\n",
    "print('The length of Virat Kohli images is',len(virat_images))\n",
    "print('The length of Serena Williams images is',len(serena_images))\n",
    "print('The length of Maria Sharapova images is',len(maria_images))\n",
    "print('The length of Rodger Federer images is',len(roger_images))\n",
    "print('The length of Lionel Messi images is',len(lionel_images))"
   ]
  },
  {
   "cell_type": "code",
   "execution_count": 29,
   "id": "d2df4492",
   "metadata": {},
   "outputs": [],
   "source": [
    "dataset=[]\n",
    "label=[]\n",
    "img_siz=(128,128)"
   ]
  },
  {
   "cell_type": "code",
   "execution_count": 30,
   "id": "1161a3fc",
   "metadata": {},
   "outputs": [
    {
     "name": "stderr",
     "output_type": "stream",
     "text": [
      "Virat Kohli: 41it [00:00, 288.40it/s]\n",
      "Serena Williams: 29it [00:00, 187.72it/s]\n",
      "Roger Federer: 28it [00:00, 197.94it/s]\n",
      "Maria Sharapova: 34it [00:00, 190.81it/s]\n",
      "Lionel Messi: 36it [00:00, 131.33it/s]\n"
     ]
    }
   ],
   "source": [
    "for i , image_name in tqdm(enumerate(virat_images),desc=\"Virat Kohli\"):\n",
    "    if(image_name.split('.')[1]=='png'):\n",
    "        image=cv2.imread(image_dir+'/virat_kohli/'+image_name)\n",
    "        image=Image.fromarray(image,'RGB')\n",
    "        image=image.resize(img_siz)\n",
    "        dataset.append(np.array(image))\n",
    "        label.append(0)\n",
    "        \n",
    "        \n",
    "for i ,image_name in tqdm(enumerate(serena_images),desc=\"Serena Williams\"):\n",
    "    if(image_name.split('.')[1]=='png'):\n",
    "        image=cv2.imread(image_dir+'/serena_williams/'+image_name)\n",
    "        image=Image.fromarray(image,'RGB')\n",
    "        image=image.resize(img_siz)\n",
    "        dataset.append(np.array(image))\n",
    "        label.append(1)\n",
    "        \n",
    "for i , image_name in tqdm(enumerate(roger_images),desc=\"Roger Federer\"):\n",
    "    if(image_name.split('.')[1]=='png'):\n",
    "        image=cv2.imread(image_dir+'/roger_federer/'+image_name)\n",
    "        image=Image.fromarray(image,'RGB')\n",
    "        image=image.resize(img_siz)\n",
    "        dataset.append(np.array(image))\n",
    "        label.append(2)\n",
    "        \n",
    "        \n",
    "for i ,image_name in tqdm(enumerate(maria_images),desc=\"Maria Sharapova\"):\n",
    "    if(image_name.split('.')[1]=='png'):\n",
    "        image=cv2.imread(image_dir+'/maria_sharapova/'+image_name)\n",
    "        image=Image.fromarray(image,'RGB')\n",
    "        image=image.resize(img_siz)\n",
    "        dataset.append(np.array(image))\n",
    "        label.append(3)        \n",
    "        \n",
    "for i ,image_name in tqdm(enumerate(lionel_images),desc=\"Lionel Messi\"):\n",
    "    if(image_name.split('.')[1]=='png'):\n",
    "        image=cv2.imread(image_dir+'/lionel_messi/'+image_name)\n",
    "        image=Image.fromarray(image,'RGB')\n",
    "        image=image.resize(img_siz)\n",
    "        dataset.append(np.array(image))\n",
    "        label.append(4)"
   ]
  },
  {
   "cell_type": "code",
   "execution_count": 31,
   "id": "656aca78",
   "metadata": {},
   "outputs": [
    {
     "name": "stdout",
     "output_type": "stream",
     "text": [
      "Dataset Length:  168\n",
      "Label Length:  168\n"
     ]
    }
   ],
   "source": [
    "dataset=np.array(dataset)\n",
    "label = np.array(label)\n",
    "print('Dataset Length: ',len(dataset))\n",
    "print('Label Length: ',len(label))"
   ]
  },
  {
   "cell_type": "code",
   "execution_count": 32,
   "id": "2c208d9e",
   "metadata": {},
   "outputs": [],
   "source": [
    "#Splitting dataset\n",
    "x_train,x_test,y_train,y_test=train_test_split(dataset,label,test_size=0.3,random_state=42)"
   ]
  },
  {
   "cell_type": "code",
   "execution_count": 33,
   "id": "828a6b09",
   "metadata": {},
   "outputs": [],
   "source": [
    "# Normalizing the Dataset\n",
    "x_train = x_train.astype('float32') / 255.0\n",
    "x_test = x_test.astype('float32') / 255.0"
   ]
  },
  {
   "cell_type": "code",
   "execution_count": 34,
   "id": "50f5b8bb",
   "metadata": {},
   "outputs": [],
   "source": [
    "# Build the Model\n",
    "model = tf.keras.models.Sequential([\n",
    "    tf.keras.layers.Conv2D(32, (3, 3), activation='relu', input_shape=(128, 128, 3)),\n",
    "    tf.keras.layers.MaxPooling2D((2, 2)),\n",
    "    tf.keras.layers.Flatten(),\n",
    "    tf.keras.layers.Dense(256, activation='relu'),\n",
    "    tf.keras.layers.Dropout(0.5),\n",
    "    tf.keras.layers.Dense(512, activation='relu'),\n",
    "    tf.keras.layers.Dense(5, activation='softmax')  \n",
    "])\n"
   ]
  },
  {
   "cell_type": "code",
   "execution_count": 35,
   "id": "ab2a8f36",
   "metadata": {},
   "outputs": [],
   "source": [
    "# Compile the Model\n",
    "model.compile(optimizer='adam',\n",
    "              loss='sparse_categorical_crossentropy',  # Change loss function\n",
    "              metrics=['accuracy'])"
   ]
  },
  {
   "cell_type": "code",
   "execution_count": 36,
   "id": "1c8a75ef",
   "metadata": {},
   "outputs": [
    {
     "name": "stdout",
     "output_type": "stream",
     "text": [
      "Epoch 1/50\n",
      "3/3 [==============================] - 2s 434ms/step - loss: 6.4217 - accuracy: 0.2222 - val_loss: 11.4285 - val_accuracy: 0.2500\n",
      "Epoch 2/50\n",
      "3/3 [==============================] - 1s 357ms/step - loss: 8.1474 - accuracy: 0.2222 - val_loss: 5.2544 - val_accuracy: 0.2500\n",
      "Epoch 3/50\n",
      "3/3 [==============================] - 1s 350ms/step - loss: 3.4296 - accuracy: 0.3704 - val_loss: 1.9818 - val_accuracy: 0.2500\n",
      "Epoch 4/50\n",
      "3/3 [==============================] - 1s 355ms/step - loss: 2.9541 - accuracy: 0.2222 - val_loss: 1.5919 - val_accuracy: 0.2778\n",
      "Epoch 5/50\n",
      "3/3 [==============================] - 1s 350ms/step - loss: 1.6244 - accuracy: 0.3333 - val_loss: 1.6884 - val_accuracy: 0.1667\n",
      "Epoch 6/50\n",
      "3/3 [==============================] - 1s 353ms/step - loss: 1.3214 - accuracy: 0.4444 - val_loss: 1.4691 - val_accuracy: 0.3889\n",
      "Epoch 7/50\n",
      "3/3 [==============================] - 1s 350ms/step - loss: 1.2719 - accuracy: 0.5185 - val_loss: 1.3327 - val_accuracy: 0.5278\n",
      "Epoch 8/50\n",
      "3/3 [==============================] - 1s 352ms/step - loss: 1.1680 - accuracy: 0.5802 - val_loss: 1.3008 - val_accuracy: 0.5278\n",
      "Epoch 9/50\n",
      "3/3 [==============================] - 1s 357ms/step - loss: 1.0997 - accuracy: 0.6543 - val_loss: 1.2449 - val_accuracy: 0.5278\n",
      "Epoch 10/50\n",
      "3/3 [==============================] - 1s 353ms/step - loss: 0.9131 - accuracy: 0.7037 - val_loss: 1.1224 - val_accuracy: 0.6389\n",
      "Epoch 11/50\n",
      "3/3 [==============================] - 1s 351ms/step - loss: 0.7850 - accuracy: 0.7531 - val_loss: 0.9914 - val_accuracy: 0.7222\n",
      "Epoch 12/50\n",
      "3/3 [==============================] - 1s 358ms/step - loss: 0.7538 - accuracy: 0.7901 - val_loss: 0.9264 - val_accuracy: 0.7222\n",
      "Epoch 13/50\n",
      "3/3 [==============================] - 1s 350ms/step - loss: 0.5724 - accuracy: 0.8395 - val_loss: 0.8213 - val_accuracy: 0.7500\n",
      "Epoch 14/50\n",
      "3/3 [==============================] - 1s 354ms/step - loss: 0.5187 - accuracy: 0.8272 - val_loss: 0.7897 - val_accuracy: 0.7222\n",
      "Epoch 15/50\n",
      "3/3 [==============================] - 1s 351ms/step - loss: 0.5139 - accuracy: 0.8148 - val_loss: 0.7626 - val_accuracy: 0.7222\n",
      "Epoch 16/50\n",
      "3/3 [==============================] - 1s 352ms/step - loss: 0.2890 - accuracy: 0.9506 - val_loss: 0.7549 - val_accuracy: 0.7222\n",
      "Epoch 17/50\n",
      "3/3 [==============================] - 1s 350ms/step - loss: 0.2807 - accuracy: 0.9506 - val_loss: 0.6574 - val_accuracy: 0.7778\n",
      "Epoch 18/50\n",
      "3/3 [==============================] - 1s 353ms/step - loss: 0.1788 - accuracy: 0.9630 - val_loss: 0.5122 - val_accuracy: 0.8056\n",
      "Epoch 19/50\n",
      "3/3 [==============================] - 1s 350ms/step - loss: 0.1594 - accuracy: 0.9630 - val_loss: 0.6749 - val_accuracy: 0.7500\n",
      "Epoch 20/50\n",
      "3/3 [==============================] - 1s 357ms/step - loss: 0.1231 - accuracy: 0.9877 - val_loss: 0.6940 - val_accuracy: 0.7500\n",
      "Epoch 21/50\n",
      "3/3 [==============================] - 1s 358ms/step - loss: 0.1455 - accuracy: 0.9506 - val_loss: 0.6606 - val_accuracy: 0.8056\n",
      "Epoch 22/50\n",
      "3/3 [==============================] - 1s 360ms/step - loss: 0.1452 - accuracy: 0.9630 - val_loss: 0.6788 - val_accuracy: 0.7778\n",
      "Epoch 23/50\n",
      "3/3 [==============================] - 1s 360ms/step - loss: 0.1172 - accuracy: 1.0000 - val_loss: 0.6405 - val_accuracy: 0.8056\n",
      "Epoch 24/50\n",
      "3/3 [==============================] - 1s 358ms/step - loss: 0.0727 - accuracy: 1.0000 - val_loss: 0.7659 - val_accuracy: 0.7500\n",
      "Epoch 25/50\n",
      "3/3 [==============================] - 1s 352ms/step - loss: 0.0793 - accuracy: 0.9877 - val_loss: 0.7303 - val_accuracy: 0.7500\n",
      "Epoch 26/50\n",
      "3/3 [==============================] - 1s 356ms/step - loss: 0.0581 - accuracy: 0.9753 - val_loss: 0.6125 - val_accuracy: 0.8056\n",
      "Epoch 27/50\n",
      "3/3 [==============================] - 1s 352ms/step - loss: 0.0933 - accuracy: 0.9506 - val_loss: 0.6181 - val_accuracy: 0.7778\n",
      "Epoch 28/50\n",
      "3/3 [==============================] - 1s 357ms/step - loss: 0.0521 - accuracy: 0.9877 - val_loss: 0.6791 - val_accuracy: 0.7222\n",
      "Epoch 29/50\n",
      "3/3 [==============================] - 1s 378ms/step - loss: 0.0662 - accuracy: 0.9753 - val_loss: 0.7971 - val_accuracy: 0.6944\n",
      "Epoch 30/50\n",
      "3/3 [==============================] - 1s 381ms/step - loss: 0.0577 - accuracy: 0.9877 - val_loss: 0.8049 - val_accuracy: 0.7222\n",
      "Epoch 31/50\n",
      "3/3 [==============================] - 1s 367ms/step - loss: 0.0407 - accuracy: 0.9877 - val_loss: 0.6748 - val_accuracy: 0.7778\n",
      "Epoch 32/50\n",
      "3/3 [==============================] - 1s 380ms/step - loss: 0.0333 - accuracy: 1.0000 - val_loss: 0.6110 - val_accuracy: 0.7778\n",
      "Epoch 33/50\n",
      "3/3 [==============================] - 1s 351ms/step - loss: 0.0156 - accuracy: 1.0000 - val_loss: 0.6081 - val_accuracy: 0.7778\n",
      "Epoch 34/50\n",
      "3/3 [==============================] - 1s 358ms/step - loss: 0.0309 - accuracy: 1.0000 - val_loss: 0.5810 - val_accuracy: 0.8333\n",
      "Epoch 35/50\n",
      "3/3 [==============================] - 1s 354ms/step - loss: 0.0279 - accuracy: 0.9877 - val_loss: 0.5596 - val_accuracy: 0.8056\n",
      "Epoch 36/50\n",
      "3/3 [==============================] - 1s 357ms/step - loss: 0.0145 - accuracy: 1.0000 - val_loss: 0.5935 - val_accuracy: 0.7778\n",
      "Epoch 37/50\n",
      "3/3 [==============================] - 1s 350ms/step - loss: 0.0234 - accuracy: 1.0000 - val_loss: 0.6356 - val_accuracy: 0.7500\n",
      "Epoch 38/50\n",
      "3/3 [==============================] - 1s 353ms/step - loss: 0.0526 - accuracy: 0.9753 - val_loss: 0.5892 - val_accuracy: 0.7778\n",
      "Epoch 39/50\n",
      "3/3 [==============================] - 1s 351ms/step - loss: 0.0746 - accuracy: 0.9753 - val_loss: 0.5394 - val_accuracy: 0.8056\n",
      "Epoch 40/50\n",
      "3/3 [==============================] - 1s 357ms/step - loss: 0.0283 - accuracy: 1.0000 - val_loss: 0.5646 - val_accuracy: 0.8056\n",
      "Epoch 41/50\n",
      "3/3 [==============================] - 1s 351ms/step - loss: 0.0507 - accuracy: 1.0000 - val_loss: 0.6336 - val_accuracy: 0.8056\n",
      "Epoch 42/50\n",
      "3/3 [==============================] - 1s 356ms/step - loss: 0.0756 - accuracy: 0.9753 - val_loss: 0.5639 - val_accuracy: 0.8056\n",
      "Epoch 43/50\n",
      "3/3 [==============================] - 1s 347ms/step - loss: 0.0279 - accuracy: 1.0000 - val_loss: 0.6386 - val_accuracy: 0.7778\n",
      "Epoch 44/50\n",
      "3/3 [==============================] - 1s 353ms/step - loss: 0.0600 - accuracy: 0.9877 - val_loss: 0.7139 - val_accuracy: 0.7500\n",
      "Epoch 45/50\n",
      "3/3 [==============================] - 1s 352ms/step - loss: 0.0287 - accuracy: 1.0000 - val_loss: 0.7189 - val_accuracy: 0.7500\n",
      "Epoch 46/50\n",
      "3/3 [==============================] - 1s 355ms/step - loss: 0.0375 - accuracy: 1.0000 - val_loss: 0.6850 - val_accuracy: 0.7222\n",
      "Epoch 47/50\n",
      "3/3 [==============================] - 1s 348ms/step - loss: 0.0178 - accuracy: 1.0000 - val_loss: 0.6842 - val_accuracy: 0.7778\n",
      "Epoch 48/50\n",
      "3/3 [==============================] - 1s 355ms/step - loss: 0.0292 - accuracy: 1.0000 - val_loss: 0.7106 - val_accuracy: 0.7778\n",
      "Epoch 49/50\n",
      "3/3 [==============================] - 1s 354ms/step - loss: 0.0201 - accuracy: 0.9877 - val_loss: 0.7829 - val_accuracy: 0.7778\n",
      "Epoch 50/50\n",
      "3/3 [==============================] - 1s 360ms/step - loss: 0.0050 - accuracy: 1.0000 - val_loss: 0.9052 - val_accuracy: 0.7500\n"
     ]
    }
   ],
   "source": [
    "# Training the Model\n",
    "history = model.fit(x_train, y_train, epochs=50, batch_size=32, validation_split=0.3)\n"
   ]
  },
  {
   "cell_type": "code",
   "execution_count": 16,
   "id": "2041d121",
   "metadata": {},
   "outputs": [
    {
     "name": "stdout",
     "output_type": "stream",
     "text": [
      "2/2 [==============================] - 0s 30ms/step - loss: 0.4863 - accuracy: 0.8627\n",
      "Accuracy: 86.27\n"
     ]
    }
   ],
   "source": [
    "#Model evaluation\n",
    "loss, accuracy = model.evaluate(x_test, y_test)\n",
    "print(f'Accuracy: {round(accuracy * 100, 2)}')"
   ]
  },
  {
   "cell_type": "code",
   "execution_count": 17,
   "id": "81fc85ce",
   "metadata": {},
   "outputs": [
    {
     "name": "stdout",
     "output_type": "stream",
     "text": [
      "2/2 [==============================] - 0s 25ms/step\n",
      "Classification Report:\n",
      "               precision    recall  f1-score   support\n",
      "\n",
      "           0       0.82      1.00      0.90        14\n",
      "           1       0.70      0.78      0.74         9\n",
      "           2       1.00      0.71      0.83         7\n",
      "           3       0.88      0.78      0.82         9\n",
      "           4       1.00      0.92      0.96        12\n",
      "\n",
      "    accuracy                           0.86        51\n",
      "   macro avg       0.88      0.84      0.85        51\n",
      "weighted avg       0.88      0.86      0.86        51\n",
      "\n"
     ]
    }
   ],
   "source": [
    "y_pred = model.predict(x_test)\n",
    "y_pred = np.argmax(y_pred, axis=1)\n",
    "print('Classification Report:\\n', classification_report(y_test, y_pred))"
   ]
  },
  {
   "cell_type": "code",
   "execution_count": 18,
   "id": "864d9526",
   "metadata": {},
   "outputs": [],
   "source": [
    "# Load and preprocess a single image\n",
    "def preprocess_single_image(image_path):\n",
    "    img_size = (128, 128)\n",
    "    image = cv2.imread(image_path)\n",
    "    image = Image.fromarray(image, 'RGB')\n",
    "    image = image.resize(img_size)\n",
    "    image = np.array(image)\n",
    "    image = image.astype('float32') / 255.0\n",
    "    return image"
   ]
  },
  {
   "cell_type": "code",
   "execution_count": 40,
   "id": "46956fb2",
   "metadata": {},
   "outputs": [],
   "source": [
    "image_path_to_predict = [r\"C:\\Users\\RUBEENA NABEEH\\Downloads\\Dataset_Celebrities\\cropped\\virat_kohli\\virat_kohli5.png\",\n",
    "                          r\"C:\\Users\\RUBEENA NABEEH\\Downloads\\Dataset_Celebrities\\cropped\\serena_williams\\serena_williams6.png\",\n",
    "                          r\"C:\\Users\\RUBEENA NABEEH\\Downloads\\Dataset_Celebrities\\cropped\\roger_federer\\roger_federer4.png\",\n",
    "                          r\"C:\\Users\\RUBEENA NABEEH\\Downloads\\Dataset_Celebrities\\cropped\\maria_sharapova\\maria_sharapova6.png\",\n",
    "                          r\"C:\\Users\\RUBEENA NABEEH\\Downloads\\Dataset_Celebrities\\cropped\\lionel_messi\\lionel_messi8.png\"]"
   ]
  },
  {
   "cell_type": "code",
   "execution_count": 43,
   "id": "29748602",
   "metadata": {},
   "outputs": [
    {
     "name": "stdout",
     "output_type": "stream",
     "text": [
      "1/1 [==============================] - 0s 48ms/step\n",
      "The predicted label for the image is: Virat Kohli\n",
      "1/1 [==============================] - 0s 45ms/step\n",
      "The predicted label for the image is: Serena Williams\n",
      "1/1 [==============================] - 0s 41ms/step\n",
      "The predicted label for the image is: Roger Federer\n",
      "1/1 [==============================] - 0s 37ms/step\n",
      "The predicted label for the image is: Maria Sharapova\n",
      "1/1 [==============================] - 0s 35ms/step\n",
      "The predicted label for the image is: Lionel Messi\n"
     ]
    }
   ],
   "source": [
    "#Making Prediction\n",
    "for i in image_path_to_predict:\n",
    "    single_image = preprocess_single_image(i)\n",
    "    single_image = np.expand_dims(single_image, axis=0)\n",
    "    predictions = model.predict(single_image)\n",
    "    predicted_class = np.argmax(predictions)\n",
    "    class_names = ['Virat Kohli', 'Serena Williams', 'Roger Federer', 'Maria Sharapova', 'Lionel Messi']\n",
    "    predicted_label = class_names[predicted_class]\n",
    "    print(f\"The predicted label for the image is: {predicted_label}\")"
   ]
  },
  {
   "cell_type": "code",
   "execution_count": null,
   "id": "122e98d8",
   "metadata": {},
   "outputs": [],
   "source": []
  }
 ],
 "metadata": {
  "kernelspec": {
   "display_name": "Python 3 (ipykernel)",
   "language": "python",
   "name": "python3"
  },
  "language_info": {
   "codemirror_mode": {
    "name": "ipython",
    "version": 3
   },
   "file_extension": ".py",
   "mimetype": "text/x-python",
   "name": "python",
   "nbconvert_exporter": "python",
   "pygments_lexer": "ipython3",
   "version": "3.9.12"
  }
 },
 "nbformat": 4,
 "nbformat_minor": 5
}
